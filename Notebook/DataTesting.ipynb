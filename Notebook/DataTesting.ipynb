{
 "cells": [
  {
   "cell_type": "markdown",
   "id": "946b90ca",
   "metadata": {},
   "source": [
    "\n",
    "\n",
    "# RAVDESS: Ryerson Audio-Visual Database of Emotional Speech and Song\n",
    "\n",
    "---\n",
    "\n",
    "The data contains around **~7,356 files** with a total size **24.8 GB**.\n",
    "\n",
    "It has **24 professional actors** (12 female, 12 male) So it's a balanced data set\n",
    "by Ryerson Audio Visual Database of emotional Speech and songs\n",
    "\n",
    "Each actor vocalizes two lexically matched statements in a **neutral North American accent**.\n",
    "\n",
    "---\n",
    "\n",
    "## Key Highlights: \n",
    "\n",
    "Balanced across gender (**12F, 12M**).\n",
    "Includes both **speech** and **song** modalities.\n",
    "High-quality recordings designed for research in emotion recognition.\n",
    "Total size: **~24.8 GB**\n",
    "\n",
    "---\n",
    "\n",
    "## Speech Emotions: \n",
    "\n",
    "- Calm, \n",
    "- Happy,\n",
    "- Sad,\n",
    "- Angry,\n",
    "- Fearful,\n",
    "- Surprise,\n",
    "- and Disgust\n",
    "\n",
    "---\n",
    "\n",
    "## Songs Emotions:\n",
    "\n",
    "- Calm,\n",
    "- Happy,\n",
    "- Sad, \n",
    "- Angry, \n",
    "- Fearful emotions\n",
    "\n",
    "---\n",
    "\n",
    "## Access: \n",
    "The dataset can be accessed using the Deep Lake API for direct streaming into ML pipelines\n",
    "\n",
    "---\n",
    "\n",
    "## Possible Use Cases: \n",
    "\n",
    "- Call Center Analytics\n",
    "\n",
    "- Mental Health Monitoring\n",
    "\n",
    "- Music Emotion Recognition\n",
    "\n",
    "---\n",
    "\n",
    "## Goal: \n",
    "\n",
    "- A mental health support tool that flags distress from speech tone.\n",
    "\n",
    "---\n"
   ]
  },
  {
   "cell_type": "markdown",
   "id": "62217f90",
   "metadata": {},
   "source": []
  },
  {
   "cell_type": "code",
   "execution_count": 5,
   "id": "f86e7ea7",
   "metadata": {},
   "outputs": [
    {
     "name": "stderr",
     "output_type": "stream",
     "text": [
      "\\"
     ]
    },
    {
     "name": "stdout",
     "output_type": "stream",
     "text": [
      "Opening dataset in read-only mode as you don't have write permissions.\n"
     ]
    },
    {
     "name": "stderr",
     "output_type": "stream",
     "text": [
      "\\"
     ]
    },
    {
     "name": "stdout",
     "output_type": "stream",
     "text": [
      "This dataset can be visualized in Jupyter Notebook by ds.visualize() or at https://app.activeloop.ai/activeloop/ravdess-emotional-speech-audio\n",
      "\n"
     ]
    },
    {
     "name": "stderr",
     "output_type": "stream",
     "text": [
      "|"
     ]
    },
    {
     "name": "stdout",
     "output_type": "stream",
     "text": [
      "hub://activeloop/ravdess-emotional-speech-audio loaded successfully.\n",
      "\n"
     ]
    },
    {
     "name": "stderr",
     "output_type": "stream",
     "text": [
      " "
     ]
    }
   ],
   "source": [
    "import deeplake\n",
    "ds = deeplake.load(\"hub://activeloop/ravdess-emotional-speech-audio\")"
   ]
  },
  {
   "cell_type": "code",
   "execution_count": 8,
   "id": "bc869b85",
   "metadata": {},
   "outputs": [
    {
     "data": {
      "text/html": [
       "\n",
       "        <iframe\n",
       "            width=\"90%\"\n",
       "            height=\"800\"\n",
       "            src=\"https://app.activeloop.ai/visualizer/hub?url=hub://activeloop/ravdess-emotional-speech-audio&token=PUBLIC_TOKEN_______________________________________________________________________________________________________________________________________________________\"\n",
       "            frameborder=\"0\"\n",
       "            allowfullscreen\n",
       "            \n",
       "        ></iframe>\n",
       "        "
      ],
      "text/plain": [
       "<IPython.lib.display.IFrame at 0x1a084790>"
      ]
     },
     "metadata": {},
     "output_type": "display_data"
    }
   ],
   "source": [
    "ds.visualize()"
   ]
  }
 ],
 "metadata": {
  "kernelspec": {
   "display_name": "Python 3",
   "language": "python",
   "name": "python3"
  },
  "language_info": {
   "codemirror_mode": {
    "name": "ipython",
    "version": 3
   },
   "file_extension": ".py",
   "mimetype": "text/x-python",
   "name": "python",
   "nbconvert_exporter": "python",
   "pygments_lexer": "ipython3",
   "version": "3.10.0"
  }
 },
 "nbformat": 4,
 "nbformat_minor": 5
}
