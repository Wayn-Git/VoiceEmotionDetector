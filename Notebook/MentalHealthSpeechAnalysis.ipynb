{
  "nbformat": 4,
  "nbformat_minor": 0,
  "metadata": {
    "colab": {
      "provenance": [],
      "gpuType": "V28"
    },
    "kernelspec": {
      "name": "python3",
      "display_name": "Python 3"
    },
    "language_info": {
      "name": "python"
    },
    "accelerator": "TPU"
  },
  "cells": [
    {
      "cell_type": "markdown",
      "source": [
        "\n",
        "\n",
        "# RAVDESS: Ryerson Audio-Visual Database of Emotional Speech and Song\n",
        "\n",
        "---\n",
        "\n",
        "The data contains around **~7,356 files** with a total size **24.8 GB**.\n",
        "\n",
        "It has **24 professional actors** (12 female, 12 male) So it's a balanced data set\n",
        "by Ryerson Audio Visual Database of emotional Speech and songs\n",
        "\n",
        "Each actor vocalizes two lexically matched statements in a **neutral North American accent**.\n",
        "\n",
        "---\n",
        "\n",
        "## Key Highlights:\n",
        "\n",
        "Balanced across gender (**12F, 12M**).\n",
        "Includes both **speech** and **song** modalities.\n",
        "High-quality recordings designed for research in emotion recognition.\n",
        "Total size: **~24.8 GB**\n",
        "\n",
        "---\n",
        "\n",
        "## Speech Emotions:\n",
        "\n",
        "- Calm,\n",
        "- Happy,\n",
        "- Sad,\n",
        "- Angry,\n",
        "- Fearful,\n",
        "- Surprise,\n",
        "- and Disgust\n",
        "\n",
        "---\n",
        "\n",
        "## Songs Emotions:\n",
        "\n",
        "- Calm,\n",
        "- Happy,\n",
        "- Sad,\n",
        "- Angry,\n",
        "- Fearful emotions\n",
        "\n",
        "---\n",
        "\n",
        "## Access:\n",
        "The dataset can be accessed using the Deep Lake API for direct streaming into ML pipelines\n",
        "\n",
        "---\n",
        "\n",
        "## Possible Use Cases:\n",
        "\n",
        "- Call Center Analytics\n",
        "\n",
        "- Mental Health Monitoring\n",
        "\n",
        "- Music Emotion Recognition\n",
        "\n",
        "---\n",
        "\n",
        "## Goal:\n",
        "\n",
        "- A mental health support tool that flags distress from speech tone.\n",
        "\n",
        "---\n"
      ],
      "metadata": {
        "id": "cKgXqD6FxwTW"
      }
    },
    {
      "cell_type": "code",
      "execution_count": 10,
      "metadata": {
        "colab": {
          "base_uri": "https://localhost:8080/"
        },
        "id": "pyNE2jPGxoxC",
        "outputId": "5f93d70f-945d-4e3a-e9b3-ce57535803da"
      },
      "outputs": [
        {
          "output_type": "stream",
          "name": "stdout",
          "text": [
            "/bin/bash: line 1: 4: No such file or directory\n"
          ]
        }
      ],
      "source": [
        "!pip install deeplake<4 pandas tensorflow matplotlib scikit-learn seaborn"
      ]
    },
    {
      "cell_type": "markdown",
      "source": [
        "Setting up the folder to download my data to the drive"
      ],
      "metadata": {
        "id": "yx92E8WmzQju"
      }
    },
    {
      "cell_type": "code",
      "source": [
        "from google.colab import drive\n",
        "drive.mount(\"/content/drive\")\n",
        "drive_path = '/content/drive/MyDrive/VoiceEmotionDetection/RavdessData'"
      ],
      "metadata": {
        "colab": {
          "base_uri": "https://localhost:8080/"
        },
        "id": "Hm6hSxCtyDS_",
        "outputId": "039a7343-41f5-464e-f33f-29d7b17dab10"
      },
      "execution_count": 11,
      "outputs": [
        {
          "output_type": "stream",
          "name": "stdout",
          "text": [
            "Drive already mounted at /content/drive; to attempt to forcibly remount, call drive.mount(\"/content/drive\", force_remount=True).\n"
          ]
        }
      ]
    },
    {
      "cell_type": "markdown",
      "source": [
        "Downloading + Unzipping the data from Zenodo"
      ],
      "metadata": {
        "id": "HL1TAVHIzQVm"
      }
    },
    {
      "cell_type": "code",
      "source": [
        "!wget -c https://zenodo.org/record/1188976/files/Audio_Speech_Actors_01-24.zip -O /content/drive/MyDrive/VoiceEmotionDetection/RavdessData/Audio_Speech_Actors_01-24.zip\n",
        "\n",
        "!unzip -q /content/drive/MyDrive/VoiceEmotionDetection/RavdessData/Audio_Speech_Actors_01-24.zip -d /content/drive/MyDrive/VoiceEmotionDetection/RavdessData/FullDataUnzipped\n",
        "\n",
        "!ls /content/drive/MyDrive/VoiceEmotionDetection/RavdessData\n"
      ],
      "metadata": {
        "colab": {
          "base_uri": "https://localhost:8080/"
        },
        "id": "j9OFOfUjyu_n",
        "outputId": "c70600cd-529a-48bd-84eb-b55e29c8312d"
      },
      "execution_count": 12,
      "outputs": [
        {
          "output_type": "stream",
          "name": "stdout",
          "text": [
            "--2025-09-10 18:21:53--  https://zenodo.org/record/1188976/files/Audio_Speech_Actors_01-24.zip\n",
            "Resolving zenodo.org (zenodo.org)... 188.185.43.25, 188.185.48.194, 188.185.45.92, ...\n",
            "Connecting to zenodo.org (zenodo.org)|188.185.43.25|:443... connected.\n",
            "HTTP request sent, awaiting response... 301 MOVED PERMANENTLY\n",
            "Location: /records/1188976/files/Audio_Speech_Actors_01-24.zip [following]\n",
            "--2025-09-10 18:21:53--  https://zenodo.org/records/1188976/files/Audio_Speech_Actors_01-24.zip\n",
            "Reusing existing connection to zenodo.org:443.\n",
            "HTTP request sent, awaiting response... 416 REQUESTED_RANGE_NOT_SATISFIABLE\n",
            "\n",
            "    The file is already fully retrieved; nothing to do.\n",
            "\n",
            "replace /content/drive/MyDrive/VoiceEmotionDetection/RavdessData/FullDataUnzipped/Actor_01/03-01-01-01-01-01-01.wav? [y]es, [n]o, [A]ll, [N]one, [r]ename: N\n",
            "Audio_Speech_Actors_01-24.zip  FullDataUnzipped\n"
          ]
        }
      ]
    },
    {
      "cell_type": "code",
      "source": [
        "data_path = '/content/drive/MyDrive/VoiceEmotionDetection/RavdessData/FullDataUnzipped'"
      ],
      "metadata": {
        "id": "Nqov6jJu0U1P"
      },
      "execution_count": 13,
      "outputs": []
    }
  ]
}